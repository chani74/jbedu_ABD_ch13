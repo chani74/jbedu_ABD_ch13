{
 "cells": [
  {
   "cell_type": "code",
   "execution_count": 2,
   "id": "120e5bc7-99ff-4d7e-a079-66fe5ab0ec62",
   "metadata": {},
   "outputs": [],
   "source": [
    "from nltk import word_tokenize"
   ]
  },
  {
   "cell_type": "code",
   "execution_count": 3,
   "id": "4abddfa2-044b-4ea9-9a68-9e45a558cf7b",
   "metadata": {},
   "outputs": [
    {
     "name": "stdout",
     "output_type": "stream",
     "text": [
      "[['I', 'am', 'a', 'element', 'school', 'student'], ['And', 'I', 'am', 'a', 'boy', '.']]\n"
     ]
    }
   ],
   "source": [
    "text = ['I am a element school student',' And I am a boy.']\n",
    "\n",
    "text_token_list = []\n",
    "\n",
    "for str in text:\n",
    "    text_token_list.append(word_tokenize(str))\n",
    "\n",
    "print(text_token_list)"
   ]
  },
  {
   "cell_type": "code",
   "execution_count": 5,
   "id": "1dcd92cf-578e-452b-9226-e0f8ff092371",
   "metadata": {},
   "outputs": [
    {
     "ename": "NameError",
     "evalue": "name 'Counter' is not defined",
     "output_type": "error",
     "traceback": [
      "\u001b[1;31m---------------------------------------------------------------------------\u001b[0m",
      "\u001b[1;31mNameError\u001b[0m                                 Traceback (most recent call last)",
      "Cell \u001b[1;32mIn[5], line 1\u001b[0m\n\u001b[1;32m----> 1\u001b[0m str_counter \u001b[38;5;241m=\u001b[39m \u001b[43mCounter\u001b[49m()\n\u001b[0;32m      2\u001b[0m \u001b[38;5;28;01mfor\u001b[39;00m \u001b[38;5;28mstr\u001b[39m \u001b[38;5;129;01min\u001b[39;00m text_token_list:\n\u001b[0;32m      3\u001b[0m     str_counter\u001b[38;5;241m.\u001b[39mupdate(\u001b[38;5;28mstr\u001b[39m)\n",
      "\u001b[1;31mNameError\u001b[0m: name 'Counter' is not defined"
     ]
    }
   ],
   "source": [
    "str_counter = Counter()\n",
    "for str in text_token_list:\n",
    "    str_counter.update(str)\n",
    "\n",
    "print(str_counter)"
   ]
  },
  {
   "cell_type": "code",
   "execution_count": null,
   "id": "4b4512f6-957b-4c58-9e3d-7f98e55ef5f7",
   "metadata": {},
   "outputs": [],
   "source": []
  }
 ],
 "metadata": {
  "kernelspec": {
   "display_name": "Python 3 (ipykernel)",
   "language": "python",
   "name": "python3"
  },
  "language_info": {
   "codemirror_mode": {
    "name": "ipython",
    "version": 3
   },
   "file_extension": ".py",
   "mimetype": "text/x-python",
   "name": "python",
   "nbconvert_exporter": "python",
   "pygments_lexer": "ipython3",
   "version": "3.12.4"
  }
 },
 "nbformat": 4,
 "nbformat_minor": 5
}
